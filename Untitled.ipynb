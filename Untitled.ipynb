{
 "cells": [
  {
   "cell_type": "code",
   "execution_count": 6,
   "id": "a27ad0bf",
   "metadata": {},
   "outputs": [],
   "source": [
    "import keyword\n",
    "def keys():\n",
    "    print(keyword.kwlist)\n"
   ]
  },
  {
   "cell_type": "code",
   "execution_count": 8,
   "id": "1cb62e8f",
   "metadata": {},
   "outputs": [
    {
     "name": "stdout",
     "output_type": "stream",
     "text": [
      "['False', 'None', 'True', 'and', 'as', 'assert', 'async', 'await', 'break', 'class', 'continue', 'def', 'del', 'elif', 'else', 'except', 'finally', 'for', 'from', 'global', 'if', 'import', 'in', 'is', 'lambda', 'nonlocal', 'not', 'or', 'pass', 'raise', 'return', 'try', 'while', 'with', 'yield']\n"
     ]
    }
   ],
   "source": [
    "import keyword\n",
    "def keys():\n",
    "    print(keyword.kwlist)\n",
    "keys()"
   ]
  },
  {
   "cell_type": "code",
   "execution_count": 9,
   "id": "0644e5bf",
   "metadata": {},
   "outputs": [
    {
     "name": "stdout",
     "output_type": "stream",
     "text": [
      "['False', 'None', 'True', 'and', 'as', 'assert', 'async', 'await', 'break', 'class', 'continue', 'def', 'del', 'elif', 'else', 'except', 'finally', 'for', 'from', 'global', 'if', 'import', 'in', 'is', 'lambda', 'nonlocal', 'not', 'or', 'pass', 'raise', 'return', 'try', 'while', 'with', 'yield']\n"
     ]
    }
   ],
   "source": [
    "import keyword\n",
    "def keys():\n",
    "    print(keyword.kwlist)\n",
    "keys()"
   ]
  },
  {
   "cell_type": "code",
   "execution_count": 12,
   "id": "60c04c0b",
   "metadata": {},
   "outputs": [
    {
     "data": {
      "text/plain": [
       "\"print(value, ..., sep=' ', end='\\\\n', file=sys.stdout, flush=False)\\n\\nPrints the values to a stream, or to sys.stdout by default.\\nOptional keyword arguments:\\nfile:  a file-like object (stream); defaults to the current sys.stdout.\\nsep:   string inserted between values, default a space.\\nend:   string appended after the last value, default a newline.\\nflush: whether to forcibly flush the stream.\""
      ]
     },
     "execution_count": 12,
     "metadata": {},
     "output_type": "execute_result"
    }
   ],
   "source": [
    "keys.__doc__\n",
    "print.__doc__"
   ]
  },
  {
   "cell_type": "code",
   "execution_count": 13,
   "id": "7a687462",
   "metadata": {},
   "outputs": [
    {
     "name": "stdout",
     "output_type": "stream",
     "text": [
      "Help on built-in function print in module builtins:\n",
      "\n",
      "print(...)\n",
      "    print(value, ..., sep=' ', end='\\n', file=sys.stdout, flush=False)\n",
      "    \n",
      "    Prints the values to a stream, or to sys.stdout by default.\n",
      "    Optional keyword arguments:\n",
      "    file:  a file-like object (stream); defaults to the current sys.stdout.\n",
      "    sep:   string inserted between values, default a space.\n",
      "    end:   string appended after the last value, default a newline.\n",
      "    flush: whether to forcibly flush the stream.\n",
      "\n"
     ]
    }
   ],
   "source": [
    "help(print)"
   ]
  },
  {
   "cell_type": "code",
   "execution_count": null,
   "id": "b2372faa",
   "metadata": {},
   "outputs": [],
   "source": [
    "PI=3.14\n",
    "#satirda büüyük harflerle yazdiklarimiz constant oluyor sabit yani\n"
   ]
  },
  {
   "cell_type": "code",
   "execution_count": 15,
   "id": "f285baeb",
   "metadata": {},
   "outputs": [
    {
     "ename": "SyntaxError",
     "evalue": "invalid decimal literal (4033352633.py, line 1)",
     "output_type": "error",
     "traceback": [
      "\u001b[0;36m  Cell \u001b[0;32mIn [15], line 1\u001b[0;36m\u001b[0m\n\u001b[0;31m    2me=23\u001b[0m\n\u001b[0m    ^\u001b[0m\n\u001b[0;31mSyntaxError\u001b[0m\u001b[0;31m:\u001b[0m invalid decimal literal\n"
     ]
    }
   ],
   "source": [
    "2me=23\n",
    "print(2me)"
   ]
  },
  {
   "cell_type": "code",
   "execution_count": 16,
   "id": "e8500c8d",
   "metadata": {},
   "outputs": [
    {
     "name": "stdout",
     "output_type": "stream",
     "text": [
      "23\n"
     ]
    }
   ],
   "source": [
    "me2=23\n",
    "print(me2)"
   ]
  },
  {
   "cell_type": "code",
   "execution_count": 17,
   "id": "8bc8f4e1",
   "metadata": {},
   "outputs": [
    {
     "name": "stdout",
     "output_type": "stream",
     "text": [
      "<class 'str'>\n"
     ]
    }
   ],
   "source": [
    "my_text=\"Ankara nin tasi altindir\"\n",
    "print(type(my_text))"
   ]
  },
  {
   "cell_type": "code",
   "execution_count": 20,
   "id": "ebbd6c40",
   "metadata": {},
   "outputs": [
    {
     "name": "stdout",
     "output_type": "stream",
     "text": [
      "<class 'float'>\n"
     ]
    }
   ],
   "source": [
    "pi=3\n",
    "cov_pi=float(pi)\n",
    "print(type(cov_pi))"
   ]
  },
  {
   "cell_type": "code",
   "execution_count": 23,
   "id": "a9874dc1",
   "metadata": {},
   "outputs": [
    {
     "name": "stdout",
     "output_type": "stream",
     "text": [
      "num1345\n"
     ]
    }
   ],
   "source": [
    "num1=456\n",
    "num2=\"345\"\n",
    "print(\"num1\"+num2)"
   ]
  },
  {
   "cell_type": "code",
   "execution_count": 26,
   "id": "bafa7b2f",
   "metadata": {},
   "outputs": [
    {
     "name": "stdout",
     "output_type": "stream",
     "text": [
      "<class 'int'>\n",
      "-1\n"
     ]
    }
   ],
   "source": [
    "b=-True\n",
    "conv_b=int(b)\n",
    "print(type(conv_b))\n",
    "print(conv_b)"
   ]
  },
  {
   "cell_type": "code",
   "execution_count": 33,
   "id": "ffc85426",
   "metadata": {},
   "outputs": [
    {
     "name": "stdout",
     "output_type": "stream",
     "text": [
      "bir sayi giriniz5\n",
      "bir sayi daha giriniz5\n",
      "bu degerler esittir\n"
     ]
    }
   ],
   "source": [
    "a=int(input(\"bir sayi giriniz\"))\n",
    "\n",
    "b=int(input(\"bir sayi daha giriniz\"))\n",
    "if a==b:\n",
    "    print(\"bu degerler esittir\")\n",
    "else:\n",
    "    print(\"bu degerler esit degildir\")"
   ]
  },
  {
   "cell_type": "code",
   "execution_count": 37,
   "id": "bd1b74f7",
   "metadata": {},
   "outputs": [
    {
     "name": "stdout",
     "output_type": "stream",
     "text": [
      "False\n",
      "True\n",
      "True\n",
      "True\n",
      "False\n"
     ]
    }
   ],
   "source": [
    "a = 0\n",
    "b = 1453\n",
    "c = -5\n",
    "d = \"aliveli\"\n",
    "e = \"\"      #içi boş string \n",
    "print(bool(a))\n",
    "print(bool(b))\n",
    "print(bool(c))\n",
    "print(bool(d))\n",
    "\n",
    "print(bool(e))"
   ]
  },
  {
   "cell_type": "code",
   "execution_count": 1,
   "id": "e1208fb8",
   "metadata": {},
   "outputs": [],
   "source": [
    "import turtle\n",
    "wn = turtle.Screen ()\n",
    "alex=turtle.Turtle()\n",
    "alex.forward(200)\n",
    "alex.left(90)\n",
    "alex.forward(150)\n",
    "alex.right(180)\n",
    "alex.forward(220)"
   ]
  },
  {
   "cell_type": "code",
   "execution_count": 2,
   "id": "6783f1a8",
   "metadata": {},
   "outputs": [],
   "source": [
    "import turtle\n",
    "wn = turtle.Screen ()\n",
    "alex=turtle.Turtle()\n",
    "alex.forward(200)\n",
    "alex.left(90)\n",
    "alex.forward(150)\n",
    "alex.right(180)\n",
    "alex.forward(220)\n",
    "alex.forward(180)\n",
    "alex.left(45)\n",
    "alex.forward(220)"
   ]
  },
  {
   "cell_type": "code",
   "execution_count": 1,
   "id": "e1864c97",
   "metadata": {},
   "outputs": [
    {
     "name": "stdout",
     "output_type": "stream",
     "text": [
      "50000\n"
     ]
    }
   ],
   "source": [
    "import turtle\n",
    "wn = turtle.Screen ()\n",
    "alex=turtle.Turtle()\n",
    "alex.forward(200)\n",
    "alex.left(90)\n",
    "alex.forward(150)\n",
    "alex.right(180)\n",
    "alex.forward(220)\n",
    "alex.salary=50000\n",
    "print(alex.salary)"
   ]
  },
  {
   "cell_type": "code",
   "execution_count": null,
   "id": "1c6b4656",
   "metadata": {},
   "outputs": [],
   "source": []
  },
  {
   "cell_type": "code",
   "execution_count": null,
   "id": "e2616402",
   "metadata": {},
   "outputs": [],
   "source": []
  },
  {
   "cell_type": "code",
   "execution_count": null,
   "id": "3d6a7db6",
   "metadata": {},
   "outputs": [],
   "source": []
  },
  {
   "cell_type": "code",
   "execution_count": null,
   "id": "423767b8",
   "metadata": {},
   "outputs": [],
   "source": []
  },
  {
   "cell_type": "code",
   "execution_count": null,
   "id": "db147d73",
   "metadata": {},
   "outputs": [],
   "source": []
  },
  {
   "cell_type": "code",
   "execution_count": null,
   "id": "4e7e5d5f",
   "metadata": {},
   "outputs": [],
   "source": []
  },
  {
   "cell_type": "code",
   "execution_count": null,
   "id": "aafad0a8",
   "metadata": {},
   "outputs": [],
   "source": []
  },
  {
   "cell_type": "code",
   "execution_count": null,
   "id": "fa7b8638",
   "metadata": {},
   "outputs": [],
   "source": []
  },
  {
   "cell_type": "code",
   "execution_count": null,
   "id": "bac931d6",
   "metadata": {},
   "outputs": [],
   "source": []
  },
  {
   "cell_type": "code",
   "execution_count": 1,
   "id": "9ab0023f",
   "metadata": {},
   "outputs": [],
   "source": [
    "import turtle\n",
    "wn=turtle.Screen\n",
    "alex=turtle.Turtle()\n",
    "turtle.forward(140)\n",
    "turtle.left(90)\n",
    "turtle.forward(90)\n",
    "turtle.left(90)\n",
    "turtle.forward(140)\n",
    "turtle.right(60)\n",
    "turtle.forward(150)"
   ]
  },
  {
   "cell_type": "code",
   "execution_count": 2,
   "id": "a709af10",
   "metadata": {},
   "outputs": [],
   "source": [
    "import turtle\n",
    "wn=turtle.Screen\n",
    "alex=turtle.Turtle()\n",
    "turtle.forward(140)\n",
    "turtle.left(90)\n",
    "turtle.forward(90)\n",
    "turtle.left(90)\n",
    "turtle.forward(140)\n",
    "turtle.right(60)\n",
    "turtle.forward(150)"
   ]
  },
  {
   "cell_type": "code",
   "execution_count": null,
   "id": "232820ee",
   "metadata": {},
   "outputs": [],
   "source": [
    "import math\n",
    "area= math.floot"
   ]
  },
  {
   "cell_type": "code",
   "execution_count": 1,
   "id": "794954be",
   "metadata": {},
   "outputs": [
    {
     "name": "stdout",
     "output_type": "stream",
     "text": [
      "ücgenin kisa kenarini giriniz2\n",
      "ücgenin diger kenarini giriniz3\n",
      "hipotenüs: 3.605551275463989\n"
     ]
    }
   ],
   "source": [
    "\n",
    "a=int(input(\"ücgenin kisa kenarini giriniz\"))\n",
    "b=int(input(\"ücgenin diger kenarini giriniz\"))\n",
    "c=(((a*a)+(b*b))**0.5)\n",
    "print(\"hipotenüs:\",c)\n",
    "   "
   ]
  },
  {
   "cell_type": "code",
   "execution_count": null,
   "id": "cd8c9db7",
   "metadata": {},
   "outputs": [],
   "source": []
  },
  {
   "cell_type": "code",
   "execution_count": null,
   "id": "42f045b8",
   "metadata": {},
   "outputs": [],
   "source": []
  },
  {
   "cell_type": "code",
   "execution_count": null,
   "id": "e3f91ff2",
   "metadata": {},
   "outputs": [],
   "source": []
  },
  {
   "cell_type": "code",
   "execution_count": null,
   "id": "a7e85928",
   "metadata": {},
   "outputs": [],
   "source": []
  },
  {
   "cell_type": "code",
   "execution_count": null,
   "id": "d075fe1f",
   "metadata": {},
   "outputs": [],
   "source": []
  },
  {
   "cell_type": "code",
   "execution_count": null,
   "id": "1c540153",
   "metadata": {},
   "outputs": [],
   "source": []
  },
  {
   "cell_type": "code",
   "execution_count": null,
   "id": "335542b8",
   "metadata": {},
   "outputs": [],
   "source": []
  },
  {
   "cell_type": "code",
   "execution_count": null,
   "id": "ebbf1d89",
   "metadata": {},
   "outputs": [],
   "source": []
  },
  {
   "cell_type": "code",
   "execution_count": null,
   "id": "d998ab99",
   "metadata": {},
   "outputs": [],
   "source": []
  },
  {
   "cell_type": "code",
   "execution_count": null,
   "id": "f8b7500d",
   "metadata": {},
   "outputs": [],
   "source": [
    "import.turtle\n",
    "wn =turtle.Screen()\n",
    "alex"
   ]
  },
  {
   "cell_type": "code",
   "execution_count": null,
   "id": "f406248c",
   "metadata": {},
   "outputs": [],
   "source": []
  },
  {
   "cell_type": "code",
   "execution_count": null,
   "id": "f327b0bc",
   "metadata": {},
   "outputs": [],
   "source": []
  }
 ],
 "metadata": {
  "kernelspec": {
   "display_name": "Python 3 (ipykernel)",
   "language": "python",
   "name": "python3"
  },
  "language_info": {
   "codemirror_mode": {
    "name": "ipython",
    "version": 3
   },
   "file_extension": ".py",
   "mimetype": "text/x-python",
   "name": "python",
   "nbconvert_exporter": "python",
   "pygments_lexer": "ipython3",
   "version": "3.10.7"
  }
 },
 "nbformat": 4,
 "nbformat_minor": 5
}
